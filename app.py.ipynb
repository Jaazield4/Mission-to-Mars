{
 "cells": [
  {
   "cell_type": "code",
   "execution_count": null,
   "id": "e9bd5643",
   "metadata": {},
   "outputs": [],
   "source": [
    "# Import Dependencies\n",
    "# Use Flask to render a template, redirecting to another url, and creating a url\n",
    "from flask import Flask, render_template, redirect, url_for\n",
    "# Use PyMongo to interact with our Mongo database\n",
    "from flask_pymongo import PyMongo\n",
    "# Use the scraping code, we'll convert from Jupyter Notebook to Python\n",
    "import scraping"
   ]
  },
  {
   "cell_type": "code",
   "execution_count": null,
   "id": "8e3e3165",
   "metadata": {},
   "outputs": [],
   "source": [
    "# Set up Flask\n",
    "app = Flask(__name__)"
   ]
  },
  {
   "cell_type": "code",
   "execution_count": null,
   "id": "586547f2",
   "metadata": {},
   "outputs": [],
   "source": [
    "# Use flask_pymongo to set up mongo connection\n",
    "# Tells Python that our app will connect to Mongo using a URI, a uniform resource identifier similar to a URL\n",
    "app.config[\"MONGO_URI\"] = \"mongodb://localhost:27017/mars_app\"\n",
    "# The URI we'll use to connect our app to Mongo. Setting database name to \"mars_app\"\n",
    "mongo = PyMongo(app)"
   ]
  },
  {
   "cell_type": "code",
   "execution_count": null,
   "id": "430526f3",
   "metadata": {},
   "outputs": [],
   "source": [
    "# Setting up routes\n",
    "@app.route(\"/\")\n",
    "def index():\n",
    "    mars = mongo.db.mars.find_one()\n",
    "    return render_template(\"index.html\", mars = mars)"
   ]
  },
  {
   "cell_type": "code",
   "execution_count": null,
   "id": "dbbf1f30",
   "metadata": {},
   "outputs": [],
   "source": [
    "# Setting up the scrape route\n",
    "@app.route(\"/scrape\")\n",
    "def scrape():\n",
    "    # Assign a new variable that points to our Mongo database\n",
    "    mars = mongo.db.mars\n",
    "    # New variable to hold newly scrped data\n",
    "    mars_data = scraping.scrape_all() # scrape_all fuction from the scraping.py\n",
    "    # '{}' adds an empty JSON object \n",
    "    # 'mars_data' uses the data we already have stored\n",
    "    # 'upsert=True' indicated to Mongo to create a new document if one doesn't already exist, and new data will be saved\n",
    "    mars.update({}, mars_data, upsert=True)\n",
    "    # Redirect to '/' (home page) after scraping the data\n",
    "    return redirect('/', code = 302)"
   ]
  },
  {
   "cell_type": "code",
   "execution_count": null,
   "id": "359b9688",
   "metadata": {},
   "outputs": [],
   "source": [
    "# Run flask\n",
    "if __name__ == \"__main__\":\n",
    "    app.run()"
   ]
  },
  {
   "cell_type": "code",
   "execution_count": null,
   "id": "d8508b73",
   "metadata": {},
   "outputs": [],
   "source": [
    "# Create a new function to scrape mars_news, '(browser)' is telling Python \n",
    "# that we'll be using the browser defined outside the function\n",
    "def mars_news(browser):\n",
    "\n",
    "    # Scrape Mars News\n",
    "    # Visit the mars nasa news site\n",
    "    url = 'https://redplanetscience.com/'\n",
    "    browser.visit(url)\n",
    "\n",
    "    # Optional delay for loading the page\n",
    "    browser.is_element_present_by_css('div.list_text', wait_time=1)\n",
    "\n",
    "    # Convert the browser html to a soup object and then quit the browser\n",
    "    html = browser.html\n",
    "    news_soup = soup(html, 'html.parser')\n",
    "\n",
    "    # Add try/except for error handling\n",
    "    try:\n",
    "        slide_elem = news_soup.select_one('div.list_text')\n",
    "        # Use the parent element to find the first 'a' tag and save it as 'news_title'\n",
    "        news_title = slide_elem.find('div', class_='content_title').get_text()\n",
    "        # Use the parent element to find the paragraph text\n",
    "        news_p = slide_elem.find('div', class_='article_teaser_body').get_text()\n",
    "\n",
    "    except AttributeError:\n",
    "        return None, None\n",
    "\n",
    "    return news_title, news_p"
   ]
  },
  {
   "cell_type": "code",
   "execution_count": null,
   "id": "de088236",
   "metadata": {},
   "outputs": [],
   "source": [
    "# Declare the function\n",
    "def featured_image(browser):\n",
    "    \n",
    "    # Visit the url\n",
    "    url = 'https://spaceimages-mars.com'\n",
    "    browser.visit(url)\n",
    "    \n",
    "    # Find and click the full image button\n",
    "    full_image_elem = browser.find_by_tag('button')[1]\n",
    "    full_image_elem.click()\n",
    "    \n",
    "    # Parse the resulting html with soup\n",
    "    html = browser.html\n",
    "    img_soup = soup(html, 'html.parser')\n",
    "    \n",
    "    # Find the relative image url\n",
    "    try:\n",
    "        # find the relative image url\n",
    "        img_url_rel = img_soup.find('img', class_='fancybox-image').get('src')\n",
    "\n",
    "    except AttributeError:\n",
    "        return None\n",
    "        \n",
    "        # Use the base URL to create an absolute URL\n",
    "        img_url = f'https://spaceimages-mars.com/{img_url_rel}'\n",
    "    \n",
    "    # Return\n",
    "    return img_url"
   ]
  },
  {
   "cell_type": "code",
   "execution_count": null,
   "id": "cef4685c",
   "metadata": {},
   "outputs": [],
   "source": [
    "# Define mars_facts\n",
    "def mars_facts():    # Add try/except for error handling\n",
    "    \n",
    "    try:\n",
    "        # Use 'read_html' to scrape the facts table into a dataframe\n",
    "        df = pd.read_html('https://galaxyfacts-mars.com')[0]\n",
    "\n",
    "    except BaseException:\n",
    "        return None\n",
    "\n",
    "    # Assign columns and set index of dataframe\n",
    "    df.columns=['Description', 'Mars', 'Earth']\n",
    "    df.set_index('Description', inplace=True)\n",
    "\n",
    "    # Convert dataframe into HTML format, add bootstrap\n",
    "    return df.to_html()"
   ]
  }
 ],
 "metadata": {
  "kernelspec": {
   "display_name": "PythonData",
   "language": "python",
   "name": "pythondata"
  },
  "language_info": {
   "codemirror_mode": {
    "name": "ipython",
    "version": 3
   },
   "file_extension": ".py",
   "mimetype": "text/x-python",
   "name": "python",
   "nbconvert_exporter": "python",
   "pygments_lexer": "ipython3",
   "version": "3.7.10"
  }
 },
 "nbformat": 4,
 "nbformat_minor": 5
}
